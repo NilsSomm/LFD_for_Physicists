{
 "cells": [
  {
   "cell_type": "markdown",
   "id": "18b0f1c2",
   "metadata": {},
   "source": [
    "(sec:Advanced_MCMC)=\n",
    "# Advanced Markov Chain Monte Carlo\n",
    "\n",
    "Here we look at more advanced MCMC, including diagnostics."
   ]
  }
 ],
 "metadata": {
  "jupytext": {
   "formats": "md:myst",
   "text_representation": {
    "extension": ".md",
    "format_name": "myst"
   }
  },
  "kernelspec": {
   "display_name": "Python 3",
   "language": "python",
   "name": "python3"
  },
  "source_map": [
   11
  ]
 },
 "nbformat": 4,
 "nbformat_minor": 5
}