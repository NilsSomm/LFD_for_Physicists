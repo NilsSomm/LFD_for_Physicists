{
 "cells": [
  {
   "cell_type": "markdown",
   "id": "49f35745",
   "metadata": {},
   "source": [
    "<!-- !split -->\n",
    "(sec:LinearModels)=\n",
    "# Linear models\n",
    "\n",
    "```{epigraph}\n",
    "> \"As always in life, people want a simple answer; ... and it’s always wrong.\"\n",
    "\n",
    "-- Susan Greenfield\n",
    "```\n",
    "\n",
    "In this chapter we will discuss models $\\modeloutput$ that are linear in their parameters $\\pars$. Although linear models are simple, they are sometimes useful for analyzing real-world data. \n",
    "\n",
    "## Definition of linear models\n",
    "\n",
    "In **linear modeling** the dependence on the model parameters $\\pars$ is **linear**, and this fact will make it possible to express that regression analysis as a linear algebra problem, and as we will show it will be possible to find an analytical expression for the optimal set of model parameters. Note that we will mostly operate with models depending on more than one parameter. Hence, we denote the parameters ($\\pars$) using a bold symbol. In this chapter we will, however, consider models ($\\modeloutput$) that relate a single dependent variable ($\\output$) with a single independent one ($\\inputt$).\n",
    "\n",
    "The linear parameter dependence implies that our model separates into a sum of parameters times basis functions. Assuming $N_p$ different basis functions we have\n",
    "\n",
    "$$\n",
    "\\model{\\pars}{\\inputt} = \\sum_{j=0}^{N_p-1} \\para_j f_j(\\inputt).\n",
    "$$ (eq_linear_model)\n",
    "\n",
    "Note that there is no $\\pars$-dependence in the basis functions $f_j(\\inputt)$.\n",
    "\n",
    "From a machine-learning perspective the different basis functions are known as **features**.\n",
    "\n",
    "```{prf:example} Polynomial basis functions\n",
    ":label: example:polynomial-linear-model\n",
    "\n",
    "A common linear model corresponds to the use of polynomial basis functions $f_j(x) = x^j$. A polynomial model of degree $N_p-1$ would then be written\n",
    "\n",
    "$$\n",
    "M(\\pars;\\inputt) = \\sum_{j=0}^{N_p-1} \\para_j \\inputt^j.\n",
    "$$ (eq_polynomial_basis)\n",
    "\n",
    "Note that the $j=0$ basis function is $f_0(x) = x^0 = 1$ such that the $\\para_0$ parameter becomes the intercept.\n",
    "```\n",
    "\n",
    "```{prf:example} Liquid-drop model for nuclear binding energies\n",
    ":label: example:LinearModels:liquid-drop-model\n",
    "\n",
    "The liquid drop model is useful for a phenomenological description of nuclear binding energies (BE) as a function of the mass number $A$ and the number of protons $Z$, neutrons $N$\n",
    "\n",
    "\\begin{equation}\n",
    "\\text{BE}(A,N,Z) = a_0+a_1A+a_2A^{2/3}+a_3 Z^2 A^{-1/3}+a_4 (N-Z)^2 A^{-1}.\n",
    "\\end{equation}\n",
    "\n",
    "We have five features: the intercept (constant term, bias), the $A$ dependent volume term, the $A^{2/3}$ surface term and the Coulomb $Z^2 A^{-1/3}$ and pairing $(N-Z)^2 A^{-1}$ terms. Although the features are somewhat complicated functions of the independent variables $A,N,Z$, we note that the $p=5$ regression parameters $\\pars = (a_0, a_1, a_2, a_3, a_4)$ enter linearly. \n",
    "```\n",
    "\n",
    "## Regression analysis with linear models\n",
    "\n",
    "When performing a regression analysis with a linear model, i.e., doing linear regression, we have access to a set of data $\\mathcal{D}$ for the dependent variable, i.e., \n",
    "\n",
    "\\begin{equation}\n",
    "\\data = [y_1, y_2,\\dots, y_{N_d}]^T.\n",
    "\\end{equation}\n",
    "\n",
    "For each datum there is an independent variable $x_i$, and our model for each datum $y_i$ is\n",
    "\n",
    "\\begin{equation}\n",
    "M_i \\equiv M(\\pars;x_i) = \\sum_{j=0}^{N_p-1} \\para_j f_j(x_i).\n",
    "\\end{equation}\n",
    "\n",
    "We can collect the basis function evaluated at each independent variable $x_i$ in a matrix $\\mathbf{X}$ of dimension $N_d \\times N_p$\n",
    "\n",
    "$$\n",
    "\\dmat = \n",
    "\t\\begin{bmatrix} \n",
    "        f_0(x_1) & \\ldots & f_{N_p-1}(x_1) \\\\\n",
    "        f_0(x_2) & \\ldots & f_{N_p-1}(x_2) \\\\\n",
    "        \\vdots  & \\ddots & \\vdots \\\\\n",
    "        f_0(x_{N_d}) & \\ldots & f_{N_p-1}(x_{N_d})\n",
    "    \\end{bmatrix}\n",
    "$$ (eq:LinearModels:design-matrix)\n",
    "\n",
    "This matrix will be referred to as a **design matrix**. \n",
    "\n",
    "```{prf:example} The design matrix for polynomial models\n",
    ":label: example:design-matrix-polynomial-models\n",
    "\n",
    "The design matrix for a linear model with polynomial basis functions becomes\n",
    "\n",
    "\\begin{equation}\n",
    "\\dmat =\n",
    "\\begin{bmatrix} \n",
    "1& x_{1}^1 &x_{1}^2& \\dots & \\dots &x_{1}^{p-1}\\\\\n",
    "1& x_{2}^1 &x_{2}^2& \\dots & \\dots &x_{2}^{p-1}\\\\\n",
    "1& x_{3}^1 &x_{3}^2& \\dots & \\dots &x_{3}^{p-1}\\\\                      \n",
    "\\dots& \\dots &\\dots& \\dots & \\dots &\\dots\\\\\n",
    "1& x_{N_d}^1 &x_{N_d}^2& \\dots & \\dots &x_{N_d}^{p-1}\\\\\n",
    "\\end{bmatrix}, \n",
    "\\end{equation}\n",
    "\n",
    "where we are considering a polynomial of degree $p-1$ which implies a model with $p$ features (including the intercept). It is also known within linear algebra as a [Vandermonde matrix](https://en.wikipedia.org/wiki/Vandermonde_matrix).\n",
    "```\n",
    "\n",
    "Next, we introduce a column vector for the parameters \n",
    "\n",
    "\\begin{equation}\n",
    "\\pars = [\\para_0,\\para_1, \\para_2,\\dots, \\para_{N_p-1}]^T,\n",
    "\\end{equation}\n",
    "\n",
    "and we arrive at the matrix equation\n",
    "\n",
    "\\begin{equation}\n",
    "\\data = \\dmat \\pars+\\boldsymbol{\\epsilon}.\n",
    "\\end{equation}\n",
    "\n",
    "The last term $\\boldsymbol{\\epsilon}$ is a column vector of so-called **residuals**. This term expresses the part of the dependent variable, for which we have data, that we cannot describe using a linear model. Formally, we can therefore write $\\epsilon_i = y_i - M_i$ and define the vector as\n",
    "\n",
    "\\begin{equation}\n",
    "\\residuals = [\\residual_1,\\residual_2, \\residual_3,\\dots, \\residual_{N_d}]^T.\n",
    "\\end{equation}\n",
    "\n",
    "It is important to realize that our model $M$ provides an approximate description of the data. Indeed, *all models are wrong* and in a realistic setting we have no guarantee that the data is generated by a linear process. Of course, based on physics insight, or other assumptions, there might exists very good reasons for using a linear model to explain the data.\n",
    "\n",
    "### The normal equation\n",
    "\n",
    "A regression analysis often aims at finding the model parameters $\\pars$ of a model $M$ such that the vector of errors $\\boldsymbol{\\epsilon}$ is minimized in the sense of its Euclidean norm (or 2-norm). You might ask the very relevant question why this particular goal is desirable. We will return to this consideration in [](sec:BayesianLinearRegression). Nevertheless, in order to find the \"optimal\" set of parameters $\\pars^*$ we seek to minimize\n",
    "\n",
    "$$\n",
    "C(\\pars)\\equiv \\sum_{i=1}^{N_d} \\epsilon_i^2 = \\sum_{i=1}^{N_d}\\left(y_i-M_i\\right)^2 = \\left\\{\\left(\\data-\\dmat \\pars\\right)^T\\left(\\data-\\dmat \\pars\\right)\\right\\}.\n",
    "$$ (eq:LinearRegression:cost-function)\n",
    "\n",
    "The solution to this optimization problem turns out to be a solution of the normal equation and is known as ordinary least-squares or ordinary linear regression.\n",
    "\n",
    "````{prf:theorem} Ordinary least squares (the normal equation)\n",
    ":label: theorem:LinearModels:normal-equation\n",
    "\n",
    "The ordinary least-squares method corresponds to finding the optimal parameter vector $\\pars^*$ that minimizes the Euclidean norm of the residual vector $\\boldsymbol{\\epsilon} = \\data - \\dmat \\pars$, where $\\data$ is a column vector of observations and $\\dmat$ is the design matrix {eq}`eq:LinearModels:design-matrix`. \n",
    "\n",
    "Finding this optimum turns out to correspond to solving the **normal equation** \n",
    "\n",
    "$$\n",
    "\\dmat^T\\data = \\dmat^T\\dmat\\pars^*.  \n",
    "$$ (eq:NormalEquation)\n",
    "\n",
    "Given that the **normal matrix** $\\dmat^T\\dmat$ is invertible, the solution to the normal equation is given by \n",
    "\n",
    "$$\n",
    "\\pars^* =\\left(\\dmat^T\\dmat\\right)^{-1}\\dmat^T\\data.\n",
    "$$ (eq:LinearModels:OLS_optimum)\n",
    "````\n",
    "\n",
    "````{prf:proof}\n",
    "Due to its quadratic form, the Euclidean norm $\\left| \\boldsymbol{\\epsilon} \\right|_2^2 = \\left(\\data-\\dmat\\pars\\right)^T\\left(\\data-\\dmat\\pars\\right) \\equiv C(\\pars)$ is bounded from below and we just need to find the single extremum. That is we need to solve the problem\n",
    "\n",
    "\\begin{equation}\n",
    "\\pars^* =\n",
    "{\\displaystyle \\mathop{\\mathrm{arg} \\min}_{\\pars\\in\n",
    "{\\mathbb{R}}^{N_p}}} \\left(\\data-\\dmat\\pars\\right)^T\\left(\\data-\\dmat\\pars\\right).\n",
    "\\end{equation}\n",
    "\n",
    "In practical terms it means we will require\n",
    "\n",
    "\\begin{align}\n",
    "\\frac{\\partial C(\\pars)}{\\partial \\para_j} = \\frac{\\partial }{\\partial \\para_j} \\Bigg[  \\sum_{i=1}^{N_d}\\Big(y_i &-\\para_0 f_0(x_i)-\\para_1f_1(x_i)-\\para_2f_2(x_i)-\\dots \\\\\n",
    "&-  \\para_{N_p-1}f_{N_p-1}(x_i)\\Big)^2\\Bigg] = 0, \n",
    "\\end{align}\n",
    "\n",
    "where $y_i$ and $f_j(x_i)$ are the elements of $\\data$ and $\\dmat$, respectively. Performing the derivative results in\n",
    "\n",
    "$$\n",
    "\\frac{\\partial C(\\pars)}{\\partial \\para_j} = -2\\Bigg[ \\sum_{i=1}^{N_d}f_j(x_i)\\Big(y_i &-\\para_0 f_0(x_i)-\\para_1f_1(x_i)-\\para_2f_2(x_i)-\\dots \\\\\n",
    "&-\\para_{N_p-1}f_{N_p-1}(x_i)\\Big)\\Bigg]=0,\n",
    "$$ (eq:LinearModels:gradient-elements)\n",
    "\n",
    "which is one element of the full gradient vecor. This gradient vector can be succinctly expressed in matrix-vector form as\n",
    "\n",
    "$$\n",
    "\\boldsymbol{\\nabla}_{\\pars} C(\\pars) = -2 \\dmat^T\\left( \\data-\\dmat\\pars\\right).  \n",
    "$$ (eq:LinearRegression:gradient)\n",
    "\n",
    "The minimum of $C$, where $\\boldsymbol{\\nabla}_{\\pars} C(\\pars) = 0$, then corresponds to \n",
    "\n",
    "$$\n",
    "\\dmat^T\\data = \\dmat^T\\dmat\\pars^*,  \n",
    "$$\n",
    "\n",
    "which is the normal equation. Finally, if the matrix $\\dmat^T\\dmat$ is invertible then we have the solution\n",
    "\n",
    "$$\n",
    "\\pars^* =\\left(\\dmat^T\\dmat\\right)^{-1}\\dmat^T\\data.\n",
    "$$\n",
    "````\n",
    "\n",
    "We note also that since our design matrix is defined as $\\dmat\\in\n",
    "{\\mathbb{R}}^{N_d\\times N_p}$, the product $\\dmat^T\\dmat \\in\n",
    "{\\mathbb{R}}^{N_p\\times N_p}$. The product $\\left(\\dmat^T\\dmat\\right)^{-1}\\dmat^T$ is called the pseudo-inverse of the design matrix $\\dmat$. The pseudo-inverse is a generalization of the usual matrix inverse. The former can be defined for also for non-square matrices that are not necessarily full rank. In the case of full-rank and square matrices the pseudo-inverse is equal to the usual inverse.\n",
    "\n",
    "The regression residuals $\\boldsymbol{\\epsilon}^{*} =  \\data - \\dmat \\pars^{*}$ can be used to obtain an estimator $s^2$ of the variance of the residuals\n",
    "\n",
    "$$\n",
    "s^2 = \\frac{(\\boldsymbol{\\epsilon}^*)^T\\boldsymbol{\\epsilon}^*}{N_d-N_p},\n",
    "$$\n",
    "\n",
    "where $N_p$ is the number of parameters in the model and $N_d$ is the number of data.\n",
    "\n",
    "(sec:ols_warmup)=\n",
    "## Ordinary linear regression: warmup\n",
    "\n",
    "To warm up, and get acquainted with the notation and formalism, let us work out a small example. Assume that we have the situation where we have collected two datapoints $\\data = [y_1,y_2]^T = [-3,3]^T$ for the predictor values $[x_1,x_2]^T = [-2,1]^T$.\n",
    "\n",
    "This data could have come from any process, even a non-linear one. But this is artificial data that I generated by evaluating the function $y = 1 + 2x$ at $x=x_1=-2$ and $x=x_2=1$. Clearly, the data-generating mechanism is very simple and corresponds to a linear model $y = \\theta_0 + \\theta_1 x$ with $[\\theta_0,\\theta_1] = [1,2]$. This is the kind of information we *never* have in reality. Indeed, we are always uncertain about the process that maps input to output, and as such our model $M$ will always be wrong. We are also uncertain about the parameters $\\pars$ of our model. These are the some of the fundamental reasons for why it can be useful to operate with a Bayesian approach where we can assign probabilities to any quantity and statement. In this example, however, we will continue with the standard (frequentist) approach based on finding the parameters that minimize the squared errors (i.e., the norm of the residual vector).\n",
    "\n",
    "We will now assume a linear model with polynomial basis up to order one to model the data, i.e.,\n",
    "\n",
    "$$\n",
    "M(\\pars;\\inputt) = \\para_0 + \\para_1 \\inputt,\n",
    "$$\n",
    "\n",
    "which we can express in terms of a design matrix $\\dmat$ and (unknown) parameter vector $\\pars$ as $M = \\dmat \\pars$.\n",
    "\n",
    "In the present case the two unknowns $\\pars = [\\para_0,\\para_1]^T$ can be fit to the two datapoints $\\data = [-3,3]^T$ using pen a paper. \n",
    "\n",
    "```{exercise}\n",
    ":label: exercise:ols_example_1\n",
    "In the example above you have two data points and two unknowns, which means you can easily solve for the model parameters using a conventional matrix inverse.\n",
    "Do the numerical calculation to make sure you have setup the problem correctly.\n",
    "```\n",
    "\n",
    "```{exercise}\n",
    ":label: exercise:ols_example_2\n",
    "Evaluate the normal equations for the design matrix $\\dmat$ and data vector $\\data$ in the example above.\n",
    "```\n",
    "\n",
    "```{exercise}\n",
    ":label: exercise:ols_example_3\n",
    "Evaluate the sample variance $s^2$ for the example above. Do you think the result makes sense?\n",
    "```\n",
    "\n",
    "(sec:ols_in_practice)=\n",
    "## Ordinary linear regression in practice\n",
    "\n",
    "We often have situation where we have much more than just two datapoints, and they rarely  fall exactly on a straight line. Let's use python to generate some more realistic, yet artificial, data. Using the function below you can generate data from some linear process with random variables for the underlying parameters. We call this a data-generating process."
   ]
  },
  {
   "cell_type": "code",
   "execution_count": 1,
   "id": "f1e60b10",
   "metadata": {},
   "outputs": [],
   "source": [
    "import numpy as np\n",
    "import pandas as pd\n",
    "import matplotlib.pyplot as plt\n",
    "\n",
    "def data_generating_process_reality(model_type, rng=np.random.default_rng(), **kwargs):\n",
    "  if model_type == 'polynomial':\n",
    "      true_params = rng.uniform(low=-5.0, high=5, size=(kwargs['poldeg']+1,))\n",
    "      #polynomial model   \n",
    "      def process(params, xdata):\n",
    "          ydata = np.polynomial.polynomial.polyval(xdata,params)\n",
    "          return ydata\n",
    "      \n",
    "  # use this to define a non-polynomial (possibly non-linear) data-generating process\n",
    "  elif model_type == 'nonlinear':\n",
    "      true_params = None\n",
    "      def process(params, xdata):\n",
    "          ydata = (0.5 + np.tan(np.pi*xdata))**2\n",
    "          return ydata           \n",
    "  else:\n",
    "      print(f'Unknown Model')\n",
    "      \n",
    "  # return function for the true process the values for the true parameters\n",
    "  # and the name of the model_type\n",
    "  return process, true_params, model_type    "
   ]
  },
  {
   "cell_type": "markdown",
   "id": "576820b5",
   "metadata": {},
   "source": [
    "Next, we make some measurements of this process, and that typically entails some measurement errors. We will here assume that independently and identically distributed (i.i.d.) measurement errors $e_i$ that all follow a normal distribution with zero mean and variance $\\sigma_e^2$. In a statistical notation we write $e_i \\sim \\mathcal{N}(0,\\sigma_e^2)$. By default, we set $\\sigma_e = 0.5$."
   ]
  },
  {
   "cell_type": "code",
   "execution_count": 2,
   "id": "f64d894f",
   "metadata": {},
   "outputs": [],
   "source": [
    "def data_generating_process_measurement(process, params, xdata, \n",
    "                           sigma_error=0.5, rng=np.random.default_rng()):\n",
    "      \n",
    "  ydata = process(params, xdata)\n",
    "  \n",
    "  #  sigma_error: measurement error. \n",
    "  error = rng.normal(0,sigma_error,len(xdata)).reshape(-1,1)\n",
    "\n",
    "  return ydata+error, sigma_error*np.ones(len(xdata)).reshape(-1,)"
   ]
  },
  {
   "cell_type": "markdown",
   "id": "238c9dcc",
   "metadata": {},
   "source": [
    "Let us setup the data-generating process, in this case a linear process of polynomial degree 1, and decide how many measurements we make ($N_d=10$). All relevant output is stored in pandas dataframes."
   ]
  },
  {
   "cell_type": "code",
   "execution_count": 3,
   "id": "aefd997f",
   "metadata": {},
   "outputs": [
    {
     "name": "stdout",
     "output_type": "stream",
     "text": [
      "model type      : polynomial\n",
      "true parameters : [-3.52776063  0.72917745]\n",
      "Nd = 10\n"
     ]
    }
   ],
   "source": [
    "#the number of data points to collect\n",
    "# -----\n",
    "Nd = 10\n",
    "# -----\n",
    "\n",
    "# predictor values\n",
    "xmin = -1 ; xmax = +1\n",
    "Xmeasurement = np.linspace(xmin,xmax,Nd).reshape(-1,1)\n",
    "# store it in a pandas dataframe\n",
    "pd_Xmeasurement = pd.DataFrame(Xmeasurement, columns=['x'])\n",
    "\n",
    "# Define the data-generating process.\n",
    "# Begin with a polynomial (poldeg=1) model_type\n",
    "# in a second run of this notebook you can play with other linear models\n",
    "reality, true_params, model_type = data_generating_process_reality(model_type='polynomial',poldeg=1)\n",
    "\n",
    "print(f'model type      : {model_type}')\n",
    "print(f'true parameters : {true_params}')\n",
    "print(f'Nd = {Nd}')\n",
    "\n",
    "# Collect measured data\n",
    "# -----\n",
    "sigma_e = 0.5\n",
    "# -----\n",
    "Ydata, Yerror = data_generating_process_measurement(reality,true_params,Xmeasurement,sigma_error=sigma_e)\n",
    "# store the data in a pandas dataframe\n",
    "pd_D=pd.DataFrame(Ydata,columns=['data'])\n",
    "# \n",
    "pd_D['x'] = Xmeasurement\n",
    "pd_D['e'] = Yerror\n",
    "\n",
    "# We will also produce a denser grid for predictions with our model and comparison with the true process. This is useful for plotting\n",
    "   \n",
    "xreality = np.linspace(xmin,xmax,200).reshape(-1,1)\n",
    "pd_R = pd.DataFrame(reality(true_params,xreality), columns=['data'])\n",
    "pd_R['x'] = xreality"
   ]
  },
  {
   "cell_type": "markdown",
   "id": "4f6b2a52",
   "metadata": {},
   "source": [
    "Create some analysis tool to inspect the data, and later on the model."
   ]
  },
  {
   "cell_type": "code",
   "execution_count": 4,
   "id": "c94a8d53",
   "metadata": {},
   "outputs": [],
   "source": [
    "# helper function to plot data, reality, and model (pd_M)\n",
    "def plot_data(pd_D, pd_R, pd_M, with_errorbars = True):\n",
    "    fig, ax = plt.subplots(1,1,figsize=(8,6))\n",
    "    ax.scatter(pd_D['x'],pd_D['data'],label=r'Data',color='black',zorder=1, alpha=0.9,s=70,marker=\"d\");\n",
    "    if with_errorbars:\n",
    "        ax.errorbar(pd_D['x'],pd_D['data'], pd_D['e'],fmt='o', ms=0, color='black');\n",
    "    if pd_R is not None:\n",
    "        ax.plot(pd_R['x'], pd_R['data'],color='red', linestyle='--',lw=3,label='Reality',zorder=10)\n",
    "    if pd_M is not None:\n",
    "        ax.plot(pd_M['x'], pd_M['data'],color='blue', linestyle='--',lw=3,label='Model',zorder=11)\n",
    "    ax.legend();\n",
    "    ax.set_title('Collected data');\n",
    "    ax.set_xlabel(r'Predictor $x$');\n",
    "    ax.set_ylabel(r'Response $y$');\n",
    "    return fig,ax"
   ]
  },
  {
   "cell_type": "markdown",
   "id": "f84ebb0a",
   "metadata": {},
   "source": [
    "Let's have a look at the data. We set the last two arguments to `None` for visualizing only the data."
   ]
  },
  {
   "cell_type": "code",
   "execution_count": 5,
   "id": "241e93d2",
   "metadata": {},
   "outputs": [
    {
     "data": {
      "image/png": "[encoded data removed]",
      "text/plain": [
       "<Figure size 800x600 with 1 Axes>"
      ]
     },
     "metadata": {},
     "output_type": "display_data"
    }
   ],
   "source": [
    "plot_data(pd_D, None, None);"
   ]
  },
  {
   "cell_type": "markdown",
   "id": "198e1202",
   "metadata": {},
   "source": [
    "Linear regression proceeds via the design matrix. We will analyze this data using a linear polynomial model of order 1. The following code will allow you to setup the corresponding design matrix $\\dmat$ for any polynomial order (referred to as poldeg below)"
   ]
  },
  {
   "cell_type": "code",
   "execution_count": 6,
   "id": "38e5eb6c",
   "metadata": {},
   "outputs": [],
   "source": [
    "def setup_polynomial_design_matrix(data_frame, poldeg, drop_constant=False, verbose=True):\n",
    "    if verbose:\n",
    "        print('setting up design matrix:')\n",
    "        print('  len(data):', len(data_frame.index))\n",
    "\n",
    "        # for polynomial models: x^0, x^1, x^2, ..., x^p\n",
    "        # use numpy increasing vandermonde matrix\n",
    "        print('  model poldeg:',poldeg)\n",
    "    \n",
    "    predictors = np.vander(data_frame['x'].to_numpy(), poldeg+1, increasing = True)\n",
    "    if drop_constant:\n",
    "        predictors = np.delete(predictors, 0, 1)\n",
    "        if verbose:\n",
    "            print('  dropping constant term')\n",
    "    pd_design_matrix = pd.DataFrame(predictors)\n",
    "        \n",
    "    return pd_design_matrix"
   ]
  },
  {
   "cell_type": "markdown",
   "id": "b8fc8d41",
   "metadata": {},
   "source": [
    "So, let's setup the design matrix for a model with polynomial basis functions. Note that there are $N_p$ parameters in a polynomial function of order $N_p-1$\n",
    "\n",
    "$$\n",
    "M(\\pars;\\inputt) = \\theta_0 + \\theta_1 \\inputt.\n",
    "$$"
   ]
  },
  {
   "cell_type": "code",
   "execution_count": 7,
   "id": "9bdd80d7",
   "metadata": {},
   "outputs": [
    {
     "name": "stdout",
     "output_type": "stream",
     "text": [
      "setting up design matrix:\n",
      "  len(data): 10\n",
      "  model poldeg: 1\n"
     ]
    }
   ],
   "source": [
    "Np=2\n",
    "pd_X = setup_polynomial_design_matrix(pd_Xmeasurement,poldeg=Np-1)"
   ]
  },
  {
   "cell_type": "markdown",
   "id": "b148abab",
   "metadata": {},
   "source": [
    "We can now perform linear regression, or ordinary least squares (OLS), as"
   ]
  },
  {
   "cell_type": "code",
   "execution_count": 8,
   "id": "e69c7004",
   "metadata": {},
   "outputs": [
    {
     "name": "stdout",
     "output_type": "stream",
     "text": [
      "Ndata = 10\n",
      "theta_ols \t[-3.51633148  1.31093366]\n",
      "theta_true \t[-3.52776063  0.72917745]\n",
      "\n"
     ]
    }
   ],
   "source": [
    "#ols estimator for physical parameter theta\n",
    "D = pd_D['data'].to_numpy()\n",
    "X = pd_X.to_numpy()\n",
    "\n",
    "ols_cov   = np.linalg.inv(np.matmul(X.T,X))\n",
    "ols_xTd   = np.matmul(X.T,D)\n",
    "ols_theta = np.matmul(ols_cov,ols_xTd)\n",
    "\n",
    "print(f'Ndata = {Nd}')\n",
    "print(f'theta_ols \\t{ols_theta}')\n",
    "print(f'theta_true \\t{true_params}\\n')"
   ]
  },
  {
   "cell_type": "markdown",
   "id": "e93b51b7",
   "metadata": {},
   "source": [
    "To evaluate the (fitted) model we setup a design matrix that spans dense values across the relevant range of predictors."
   ]
  },
  {
   "cell_type": "code",
   "execution_count": 9,
   "id": "74dacc7b",
   "metadata": {},
   "outputs": [
    {
     "name": "stdout",
     "output_type": "stream",
     "text": [
      "setting up design matrix:\n",
      "  len(data): 200\n",
      "  model poldeg: 1\n"
     ]
    }
   ],
   "source": [
    "pd_Xreality = setup_polynomial_design_matrix(pd_R,poldeg=Np-1)"
   ]
  },
  {
   "cell_type": "markdown",
   "id": "735d9542",
   "metadata": {},
   "source": [
    "and then we dot this with the fitted (ols) parameter values"
   ]
  },
  {
   "cell_type": "code",
   "execution_count": 10,
   "id": "0740d7cc",
   "metadata": {},
   "outputs": [],
   "source": [
    "Xreality = pd_Xreality.to_numpy()\n",
    "pd_M_ols = pd.DataFrame(np.matmul(Xreality,ols_theta),columns=['data'])\n",
    "pd_M_ols['x'] = xreality"
   ]
  },
  {
   "cell_type": "markdown",
   "id": "cdece9b7",
   "metadata": {},
   "source": [
    "A plot (which now includes the data-generating process 'reality') demonstrates the quality of the inference."
   ]
  },
  {
   "cell_type": "code",
   "execution_count": 11,
   "id": "e92dd92d",
   "metadata": {},
   "outputs": [
    {
     "data": {
      "image/png": "[encoded data removed]",
      "text/plain": [
       "<Figure size 800x600 with 1 Axes>"
      ]
     },
     "metadata": {},
     "output_type": "display_data"
    }
   ],
   "source": [
    "plot_data(pd_D, pd_R, pd_M_ols);"
   ]
  },
  {
   "cell_type": "markdown",
   "id": "bd8475e5",
   "metadata": {},
   "source": [
    "To conclude, we also compute the sample variance $s^2$"
   ]
  },
  {
   "cell_type": "code",
   "execution_count": 12,
   "id": "3e8d3d38",
   "metadata": {},
   "outputs": [
    {
     "name": "stdout",
     "output_type": "stream",
     "text": [
      "s^2       \t0.253\n",
      "sigma_e^2 \t0.250\n"
     ]
    }
   ],
   "source": [
    "ols_D   = np.matmul(X,ols_theta)\n",
    "ols_eps = (ols_D - D)\n",
    "ols_s2 = (np.dot(ols_eps,ols_eps.T)/(Nd-Np))\n",
    "\n",
    "print(f's^2       \\t{ols_s2:.3f}')\n",
    "print(f'sigma_e^2 \\t{sigma_e**2:.3f}')"
   ]
  },
  {
   "cell_type": "markdown",
   "id": "c2c1ccfe",
   "metadata": {},
   "source": [
    "As seen, the extracted variance is in some agreement with the true one.\n",
    "\n",
    "Using the code above, you should now try to do the following exercises.\n",
    "\n",
    "```{exercise}\n",
    ":label: exercise:ols_example_4\n",
    "Keep working with the simple polynomial model $M = \\theta_0 + \\theta_1 x$\n",
    "\n",
    "Reduce the number of data to 2, i.e., set Nd=2. Do you reproduce the result from the simple example in the previous section?\n",
    "\n",
    "Increase the number of data to 1000. Do the OLS values of the model parameters and the sample variance approach the (true) parameters of the data-generating process? Is this to be expected? \n",
    "```\n",
    "\n",
    "```{exercise}\n",
    ":label: exercise:ols_example_5\n",
    "Set the data-generating process to be a 3rd-order polynomial and set limits of the the predictor variable to [-3,3]. Analyze the data using a 2nd-order polynomial model.\n",
    "\n",
    "Explore the limit of $N_d \\rightarrow \\infty$ by setting $N_d = 500$ or so. Will the OLS values of the model parameters and the sample variance approach the (true) values for some of the parameters? \n",
    "```\n",
    "\n",
    "## Solutions\n",
    "\n",
    "Here are answers and solutions to selected exercises.\n",
    "\n",
    "````{solution} exercise:ols_example_1\n",
    ":label: solution:ols_example_1\n",
    ":class: dropdown\n",
    "\n",
    "We have the following design matrix\n",
    "\n",
    "$$\n",
    "\\dmat = \\left[\n",
    "    \\begin{array}{cc}\n",
    "        1 & -2 \\\\\n",
    "        1 & 1\n",
    "    \\end{array}\n",
    "\\right],\n",
    "$$\n",
    "\n",
    "which in the present case yields the parameter values\n",
    "\n",
    "$$\n",
    "\\pars^{*} = \\dmat^{-1}\\data = [1,2]^T.\n",
    "$$\n",
    "````\n",
    "\n",
    "````{solution} exercise:ols_example_3\n",
    ":label: solution:ols_example_3\n",
    ":class: dropdown\n",
    "\n",
    "For the warmup case we have fitted a straight line through two data points, which is always possible, and we cannot determine the sample variance. This will be even more clear when we come to [](sec:BayesianLinearRegression).\n",
    "\n",
    "````"
   ]
  }
 ],
 "metadata": {
  "jupytext": {
   "formats": "md:myst",
   "text_representation": {
    "extension": ".md",
    "format_name": "myst"
   }
  },
  "kernelspec": {
   "display_name": "Python 3",
   "language": "python",
   "name": "python3"
  },
  "language_info": {
   "codemirror_mode": {
    "name": "ipython",
    "version": 3
   },
   "file_extension": ".py",
   "mimetype": "text/x-python",
   "name": "python",
   "nbconvert_exporter": "python",
   "pygments_lexer": "ipython3",
   "version": "3.11.13"
  },
  "source_map": [
   11,
   250,
   275,
   279,
   289,
   293,
   330,
   334,
   350,
   354,
   356,
   360,
   378,
   386,
   389,
   392,
   404,
   408,
   410,
   413,
   417,
   421,
   423,
   427,
   434
  ]
 },
 "nbformat": 4,
 "nbformat_minor": 5
}