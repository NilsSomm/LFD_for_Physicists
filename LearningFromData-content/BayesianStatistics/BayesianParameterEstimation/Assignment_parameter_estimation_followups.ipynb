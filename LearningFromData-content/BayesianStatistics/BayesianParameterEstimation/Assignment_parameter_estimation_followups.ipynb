{
 "cells": [
  {
   "cell_type": "markdown",
   "metadata": {},
   "source": [
    "# Assignment: Follow-ups to Parameter Estimation notebooks \n",
    "\n",
    "**Goal:** work through the `parameter_estimation_fitting_straight_line_I.ipynb` and `amplitude_in_presence_of_background.ipynb` notebooks, doing some of the suggested tasks and answering selected questions, as detailed below.  "
   ]
  },
  {
   "cell_type": "markdown",
   "metadata": {},
   "source": [
    "## Learning goals:\n",
    "* Improve your understanding of the Python code in our sample notebooks.\n",
    "* Be able to articulate basic scaling of fluctuations, the signature of correlations, and the role of priors.\n",
    "* Gain experience with a basic Bayesian experimental design problem.\n",
    "* Explore an example of the central limit theorem both analytically and numerically."
   ]
  },
  {
   "cell_type": "markdown",
   "metadata": {},
   "source": [
    "## A. Parameter estimation example: fitting a straight line I\n",
    "\n",
    "1. Step through the notebook and make sure you understand the notation and calculations.  Try writing the requested pieces of Python code; if you have difficulty, study the supplied code instead and identify what parts you don't understand.  (You don't need to hand in anything for this part but please list here any questions you have.)\n",
    "<br><br>\n",
    "When you make the function for the flat log prior, you have log(0) assigned to every value between 1 and 1000, but isn't that just regular flat?\n",
    "<br><br>\n",
    "\n",
    "2. Do exercise 3: Change the random number seed to get different results and comment on how the maximum likelihood results fluctuate. How is the typical size of fluctuations related to the number of data points $N$ and the data error standard deviation $dy$? E.g., are they proportional to $N$ or $dy^2$ or what?  (Try changing $N$ and $dy$ to test your answer!)\n",
    "<br><br>\n",
    "I changed the random seed a few times and found that the slope fluctuates up to 3 away from 25, so the default seed was a little misleading.\n",
    "I think the error goes like $\\frac{1}{\\sqrt{N}}$ which is a little hard to see exactly, but I can see that the error scales with just $dy$ by running the same seed and seeing a proportional increase away from the real slope\n",
    "<br><br>\n",
    "\n",
    "4. In both sets of joint posterior graphs, are the slope and intercept correlated?  How do you know? Explain how they get correlated.\n",
    "<br><br>\n",
    "The slope and intercept are correlated, the primary axes of the elipses are not parallel to the axes.\n",
    "\n",
    "I can visualize this correlation, imagine that you have some error in the slope, that you fit to a slope that is smaller than the real slope. Then to fit to the points at the points at the end of the graph the intercept should be a little higher. The same goes for the opposite, if the slope is a little too high, the intercept would be a little too low in order to get a good fit through all points. Then there should be a negative correlation between the two, which you can see on the leipses, where it kind of fits to a negative line.\n",
    "<br><br>\n",
    "\n",
    "6. For the first set of data, answer the question: \"What do you conclude about how the form of the prior affects the final posterior in this case?\"\n",
    "<br><br>\n",
    "Here the prior does not affect the data meaningfully. Both options are at least decent priors, and since our data is pretty good we approach an answer pretty quickly.\n",
    "<br><br>\n",
    "\n",
    "7. For the second set of data, answer the question: \"Why in this case does the form of the prior have a clear effect?\"  You should consider both the size of the error bars and the number of data points (and try changing them to verify the impact).\n",
    "<br><br>\n",
    "For the second set, there is very little data. As said in the notebook, if our data is bad it won't change much about how we see the world. When I change to 2 or one point(s), the effect becomes even more pronounced, with the answers basically just being the priors. When I go to N=3 and dy=5, I go back to seeing the same answer for the 2 priors. With N=3, it takes a dy of 20 to start seeing a clear difference between the 2 priors.\n",
    "<br><br>\n"
   ]
  },
  {
   "cell_type": "markdown",
   "metadata": {},
   "source": [
    "## B. Amplitude of a signal in the presence of background\n",
    "\n",
    "1. Step through the notebook and make sure you understand the problem and its analysis. You may find the discussion in Section 3.1 of *Sivia and Skilling, Data Analysis: A Bayesian Tutorial* useful (see Carmen modules). You don't need to hand in anything for this part but please list here any questions you have.\n",
    "<br><br><br><br>\n",
    "\n",
    "2. Do the \"Follow-ups\": \n",
    "   * *Try both smaller and larger values of D and note the transition in the form of the pdf.*\n",
    "<br>\n",
    "The form becomes more gaussian as you go higher\n",
    "   * At $D=12.5$ the pdf is already looking like a Gaussian (or what most of us imagine a Gaussian to look like).  *Prove that in the limit $D \\rightarrow \\infty$ that* \n",
    "   \n",
    "    $$\n",
    "     p(N \\mid D) \\stackrel{D\\rightarrow\\infty}{\\longrightarrow} \\frac{1}{\\sqrt{2\\pi D}}e^{-(N-D)^2/(2D)}\n",
    "    $$\n",
    "\n",
    "You'll want to use Stirling's formula:  $x! \\rightarrow \\sqrt{2\\pi x}e^{-x} x^x$ as $x\\rightarrow\\infty$.\n",
    "\\[Hint: let $x = N = D(1+\\delta)$ where $D\\gg 1$ and $\\delta \\ll 1$.  And use $(1+\\delta)^a = e^{a\\ln (1+\\delta)}$.\\]\n",
    "<br><br>\n",
    "Take ln of both sides. <br><br>\n",
    "$ln(P) = Nln(D) - D - ln(N!)$<br><br>\n",
    "Plug in Stirling's approximation <br><br>\n",
    "$ln(P) = N ln(D) - D - N ln(N) + N - \\frac{1}{2}ln(2\\pi N)$<br><br>\n",
    "Group terms and replace $N$ with $D(1+\\delta)$. The last term is of too small an order to matter.<br><br>\n",
    "$ln(P) = -D(1+\\delta)ln(1+\\delta)-D+D(1+\\delta-\\frac{1}{2}ln(2\\pi D) - \\frac{1}{2}ln(1+\\delta)$<br><br>\n",
    "Simplify and plug in that $ln(1+\\delta) \\approx \\delta - \\frac{\\delta^2}{2}$<br><br>\n",
    "$ln(P) = (-D-D\\delta)(\\delta - \\frac{\\delta^2}{2}) + D\\delta - \\frac{1}{2}ln(2\\pi D)$<br><br>\n",
    "Distribute and group terms of order $\\delta^3$ or greater, they can be ignored<br><br>\n",
    "$ln(P) = \\frac{D\\delta^2}{2} - \\frac{1}{2}ln(2\\pi D) + O(\\delta^3)$<br><br>\n",
    "Plug in $\\delta = \\frac{D+N}{D}$ and exponentiating both sides gives our answer. <br><br>\n",
    "$P = \\frac{1}{\\sqrt{2\\pi D}}e^{-(N-D)^2/(2D)}$\n",
    "<br><br>\n",
    "  * *Show that this limit works in practice and visualize how close it is by adding the Gaussian pdf to the plot.* (See [scipy.stats.norm](https://docs.scipy.org/doc/scipy/reference/generated/scipy.stats.norm.html) or define a function yourself.)  **Add code below to make a figure here with the limiting Poisson histogram and the limiting Gaussian pdf.**\n",
    "<br><br><br><br>\n",
    "\n",
    "3. Based on your observations in running the different cases (and any additional ones you add), how should you optimally design an experiment to detect the amplitude of the signal given limited resources?  For example: How many counts are needed? How should you bin the data? What $(x_k)_{\\rm max}$ should you use? \n",
    "<br><br><br><br>\n"
   ]
  },
  {
   "cell_type": "code",
   "execution_count": 1,
   "metadata": {},
   "outputs": [],
   "source": [
    "%matplotlib inline  \n",
    "\n",
    "import numpy as np\n",
    "from math import factorial\n",
    "\n",
    "# We'll get our uniform distributions from stats, but there are other ways.\n",
    "import scipy.stats as stats  \n",
    "import scipy.integrate as integrate\n",
    "from scipy import interpolate\n",
    "\n",
    "import matplotlib.pyplot as plt\n",
    "import seaborn as sns; sns.set() \n",
    "\n",
    "from mpl_toolkits import mplot3d\n",
    "from matplotlib import cm\n",
    "\n",
    "plt.rcParams.update({'font.size': 16})"
   ]
  },
  {
   "cell_type": "code",
   "execution_count": 2,
   "metadata": {},
   "outputs": [],
   "source": [
    "# We'll start with the numbers used by Sivia\n",
    "A_true = 1.\n",
    "B_true = 2.\n",
    "width = np.sqrt(5.)   \n",
    "x_0 = 0\n",
    "\n",
    "#def exact_data(A, B, n_0, x_k, x_0=0., width=np.sqrt(5.)):\n",
    "#    \"\"\"\n",
    "#    Return the exact signal plus background.  The overall scale is n_0,\n",
    "#    which is determined by how long counts are collected. \n",
    "#    \"\"\"\n",
    "#    return n_0 * (A * np.exp(-(x_k - x_0)**2/(2.*width**2)) + B)"
   ]
  },
  {
   "cell_type": "code",
   "execution_count": 3,
   "metadata": {},
   "outputs": [],
   "source": [
    "def poisson(N, D):\n",
    "    \"\"\"\n",
    "    Returns a Poisson distribution value with mean D for integer N.\n",
    "    We require N to be an integer greater than equal to zero.\n",
    "    \"\"\"\n",
    "    assert (isinstance(N, int) and N >= 0), \\\n",
    "            \"N must be a non-negative integer!\"\n",
    "\n",
    "    return D**N * np.exp(-D) / factorial(N) "
   ]
  },
  {
   "cell_type": "code",
   "execution_count": 5,
   "metadata": {},
   "outputs": [],
   "source": [
    "def gaussian_dist(A, n_0, x_k, x_0=0., width=np.sqrt(5.)):\n",
    "    return n_0 * (A * np.exp(-(x_k - x_0)**2/(2.*width**2)))"
   ]
  },
  {
   "cell_type": "code",
   "execution_count": 24,
   "metadata": {},
   "outputs": [
    {
     "name": "stdout",
     "output_type": "stream",
     "text": [
      "[ 0  1  2  3  4  5  6  7  8  9 10 11 12 13 14 15 16 17 18 19 20 21 22 23\n",
      " 24 25 26 27 28 29]\n"
     ]
    },
    {
     "data": {
      "image/png": "[encoded data removed]",
      "text/plain": [
       "<Figure size 1500x500 with 1 Axes>"
      ]
     },
     "metadata": {},
     "output_type": "display_data"
    }
   ],
   "source": [
    "def poisson_plot(ax, D, max_N):\n",
    "    \"\"\"\n",
    "    Make a bar plot on the axis ax of the Poisson distribution for mu = D\n",
    "    and out to a maximum integer max_N.\n",
    "    \"\"\"\n",
    "    N_pts = np.arange(0, max_N, 1, dtype=int)\n",
    "    poisson_pts = [poisson(int(N), D) for N in N_pts]\n",
    "    ax.bar(N_pts, poisson_pts, width=0.8, bottom=None, align='center')\n",
    "    ax.set_xlabel(r'Number of counts $N$')\n",
    "    ax.set_ylabel(fr'$\\mathrm{{p}}(N \\mid D={D:.1f})$')\n",
    "    ax.set_title(rf'$D = {D:.1f}$')\n",
    "    return 0\n",
    "\n",
    "fig = plt.figure(figsize=(15,5))\n",
    "\n",
    "ax2 = fig.add_subplot(1,2,2)\n",
    "D2 = 15\n",
    "max_N2 = 30\n",
    "poisson_plot(ax2, D2, max_N2)\n",
    "\n",
    "N_pts = np.arange(0, max_N2, 1, dtype=int)\n",
    "poisson_pts = [poisson(int(N), D2) for N in N_pts]\n",
    "ax2.plot(gaussian_dist(15, 2.3, N_pts, width = 8), poisson_pts)\n",
    "print(N_pts)\n",
    "fig.tight_layout()"
   ]
  },
  {
   "cell_type": "code",
   "execution_count": null,
   "metadata": {},
   "outputs": [],
   "source": []
  }
 ],
 "metadata": {
  "kernelspec": {
   "display_name": "Python [conda env:LFDFP]",
   "language": "python",
   "name": "conda-env-LFDFP-py"
  },
  "language_info": {
   "codemirror_mode": {
    "name": "ipython",
    "version": 3
   },
   "file_extension": ".py",
   "mimetype": "text/x-python",
   "name": "python",
   "nbconvert_exporter": "python",
   "pygments_lexer": "ipython3",
   "version": "3.11.13"
  }
 },
 "nbformat": 4,
 "nbformat_minor": 4
}
